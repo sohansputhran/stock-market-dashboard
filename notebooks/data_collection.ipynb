{
 "cells": [
  {
   "cell_type": "code",
   "execution_count": 3,
   "metadata": {},
   "outputs": [
    {
     "name": "stdout",
     "output_type": "stream",
     "text": [
      "                                 Open        High         Low       Close  \\\n",
      "Date                                                                        \n",
      "2025-01-23 00:00:00-05:00  224.740005  227.029999  222.300003  223.660004   \n",
      "2025-01-24 00:00:00-05:00  224.779999  225.630005  221.410004  222.779999   \n",
      "2025-01-27 00:00:00-05:00  224.020004  232.149994  223.979996  229.860001   \n",
      "2025-01-28 00:00:00-05:00  230.850006  240.190002  230.809998  238.259995   \n",
      "2025-01-29 00:00:00-05:00  234.119995  239.860001  234.009995  239.360001   \n",
      "\n",
      "                             Volume  Dividends  Stock Splits  \n",
      "Date                                                          \n",
      "2025-01-23 00:00:00-05:00  60234800        0.0           0.0  \n",
      "2025-01-24 00:00:00-05:00  54697900        0.0           0.0  \n",
      "2025-01-27 00:00:00-05:00  94863400        0.0           0.0  \n",
      "2025-01-28 00:00:00-05:00  75707600        0.0           0.0  \n",
      "2025-01-29 00:00:00-05:00  45375500        0.0           0.0  \n"
     ]
    }
   ],
   "source": [
    "import yfinance as yf\n",
    "\n",
    "# Fetch stock data for Apple (AAPL)\n",
    "stock = yf.Ticker(\"AAPL\")\n",
    "\n",
    "# Get historical market data\n",
    "historical_data = stock.history(period=\"1y\")  # 1 year of data\n",
    "\n",
    "print(historical_data.tail())"
   ]
  },
  {
   "cell_type": "code",
   "execution_count": 2,
   "metadata": {},
   "outputs": [
    {
     "name": "stdout",
     "output_type": "stream",
     "text": [
      "Apple Stock Price: $6,091.75\n"
     ]
    }
   ],
   "source": [
    "# import requests\n",
    "# from bs4 import BeautifulSoup\n",
    "\n",
    "# # URL for Apple stock on Yahoo Finance\n",
    "# url = \"https://finance.yahoo.com/quote/AAPL?p=AAPL\"\n",
    "\n",
    "# # Request page content\n",
    "# response = requests.get(url)\n",
    "# soup = BeautifulSoup(response.text, \"html.parser\")\n",
    "\n",
    "# # Extract stock price\n",
    "# price_tag = soup.find(\"fin-streamer\", {\"data-field\": \"regularMarketPrice\"})\n",
    "# price = price_tag.text if price_tag else \"N/A\"\n",
    "\n",
    "# historical\n",
    "\n",
    "# print(f\"Apple Stock Price: ${price}\")"
   ]
  },
  {
   "cell_type": "code",
   "execution_count": null,
   "metadata": {},
   "outputs": [],
   "source": []
  }
 ],
 "metadata": {
  "kernelspec": {
   "display_name": "venv",
   "language": "python",
   "name": "python3"
  },
  "language_info": {
   "codemirror_mode": {
    "name": "ipython",
    "version": 3
   },
   "file_extension": ".py",
   "mimetype": "text/x-python",
   "name": "python",
   "nbconvert_exporter": "python",
   "pygments_lexer": "ipython3",
   "version": "3.9.5"
  }
 },
 "nbformat": 4,
 "nbformat_minor": 2
}
